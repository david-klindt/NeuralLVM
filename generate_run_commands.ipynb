{
 "cells": [
  {
   "cell_type": "code",
   "execution_count": 98,
   "metadata": {},
   "outputs": [],
   "source": [
    "import numpy as np\n",
    "from sklearn.model_selection import ParameterGrid"
   ]
  },
  {
   "cell_type": "code",
   "execution_count": 112,
   "metadata": {},
   "outputs": [
    {
     "name": "stdout",
     "output_type": "stream",
     "text": [
      "1 num_sample 1\n",
      "1 num_neuron_train 1\n",
      "3 seed 3\n",
      "3 kernel_size 1\n",
      "3 num_hidden 1\n",
      "6 shared 2\n",
      "6 learn_coeff 1\n",
      "12 learn_mean 2\n",
      "24 learn_var 2\n",
      "24 isotropic 1\n",
      "72 num_basis 3\n",
      "72 batch_size 1\n",
      "72 batch_length 1\n",
      "144 learning_rate 2\n",
      "144 num_worse 1\n",
      "432 weight_kl 3\n",
      "432 weight_time 1\n",
      "432 weight_entropy 1\n"
     ]
    }
   ],
   "source": [
    "params = {\n",
    "        # data (this is more to check)\n",
    "        'num_sample': [10000],      # [1000, 10000, 100000]  # only do the one in the middle\n",
    "        'num_neuron_train': [50],   #  : [10, 50, 100]   # only do the one in the middle\n",
    "        'seed': [15645, 56512, 98148],\n",
    "\n",
    "        # model\n",
    "        'kernel_size': [9],\n",
    "        'num_hidden': [256],\n",
    "        'shared': [True, False],\n",
    "        'learn_coeff': [True],\n",
    "        'learn_mean': [True, False],\n",
    "        'learn_var': [True, False],\n",
    "        'isotropic': [True],\n",
    "        'num_basis': [1, 2, 4],\n",
    "\n",
    "        # # training\n",
    "        'batch_size': [32],\n",
    "        'batch_length': [128],\n",
    "        'learning_rate': [1e-3, 1e-2],\n",
    "        'num_worse': [50],\n",
    "        'weight_kl': [1e-9, 1e-6, 1e-3],\n",
    "        'weight_time': [0],\n",
    "        'weight_entropy': [0],\n",
    "    }\n",
    "\n",
    "n = 1\n",
    "for k, v in params.items():\n",
    "    n *= len(v)\n",
    "    print(n, k, len(v))\n"
   ]
  },
  {
   "cell_type": "code",
   "execution_count": 101,
   "metadata": {},
   "outputs": [
    {
     "data": {
      "text/plain": [
       "array([1.00000000e-08, 3.16227766e-04, 1.00000000e+01])"
      ]
     },
     "execution_count": 101,
     "metadata": {},
     "output_type": "execute_result"
    }
   ],
   "source": [
    "np.logspace(1-9, 1e0, 3, endpoint=True)"
   ]
  },
  {
   "cell_type": "code",
   "execution_count": 91,
   "metadata": {},
   "outputs": [
    {
     "name": "stdout",
     "output_type": "stream",
     "text": [
      "--batch_length 64 --batch_size 16 --isotropic False --kernel_size 1 --learn_coeff False --learn_mean True --learn_var False --learning_rate 0.001 --num_basis 2 --num_hidden 32 --num_neuron_train 50 --num_sample 10000 --num_worse 50 --seed 2 --shared True --weight_entropy 0.00031622776601683794 --weight_kl 10.0 --weight_time 0.00031622776601683794 \n",
      "--batch_length 64 --batch_size 1 --isotropic True --kernel_size 9 --learn_coeff False --learn_mean False --learn_var True --learning_rate 0.001 --num_basis 4 --num_hidden 128 --num_neuron_train 50 --num_sample 10000 --num_worse 50 --seed 3 --shared False --weight_entropy 0.00031622776601683794 --weight_kl 0.00031622776601683794 --weight_time 1e-08 \n",
      "--batch_length 64 --batch_size 1 --isotropic True --kernel_size 17 --learn_coeff False --learn_mean False --learn_var True --learning_rate 0.001 --num_basis 2 --num_hidden 32 --num_neuron_train 50 --num_sample 10000 --num_worse 50 --seed 1 --shared False --weight_entropy 10.0 --weight_kl 10.0 --weight_time 1e-08 \n",
      "--batch_length 64 --batch_size 1 --isotropic False --kernel_size 1 --learn_coeff True --learn_mean True --learn_var False --learning_rate 0.001 --num_basis 2 --num_hidden 128 --num_neuron_train 50 --num_sample 10000 --num_worse 50 --seed 2 --shared False --weight_entropy 1e-08 --weight_kl 0.00031622776601683794 --weight_time 1e-08 \n"
     ]
    }
   ],
   "source": [
    "base = ''  # python NeuralLVM/tests.py test_training --... \n",
    "pg = np.array(ParameterGrid(params))\n",
    "np.random.shuffle(pg)\n",
    "for i, combination in enumerate(pg):\n",
    "    cmd = base\n",
    "    for key, val in combination.items():\n",
    "        cmd += f'--{key} {val} '\n",
    "    print(cmd)\n",
    "    if i == 3:\n",
    "        break"
   ]
  },
  {
   "cell_type": "code",
   "execution_count": 97,
   "metadata": {},
   "outputs": [
    {
     "name": "stdout",
     "output_type": "stream",
     "text": [
      "gpu month 29.16\n"
     ]
    }
   ],
   "source": [
    "runtime_minutes = 30\n",
    "print('gpu month', (len(pg) * runtime_minutes ) / 60./24. / 100)"
   ]
  },
  {
   "cell_type": "code",
   "execution_count": null,
   "metadata": {},
   "outputs": [],
   "source": []
  }
 ],
 "metadata": {
  "interpreter": {
   "hash": "2d6eb8f4b98ce0692a6f1f6e6443eea96ab18ea7ee16a9dde68ec43b4df3f39a"
  },
  "kernelspec": {
   "display_name": "Python 3.9.12 ('lvm')",
   "language": "python",
   "name": "python3"
  },
  "language_info": {
   "codemirror_mode": {
    "name": "ipython",
    "version": 3
   },
   "file_extension": ".py",
   "mimetype": "text/x-python",
   "name": "python",
   "nbconvert_exporter": "python",
   "pygments_lexer": "ipython3",
   "version": "3.9.12"
  },
  "orig_nbformat": 4
 },
 "nbformat": 4,
 "nbformat_minor": 2
}
